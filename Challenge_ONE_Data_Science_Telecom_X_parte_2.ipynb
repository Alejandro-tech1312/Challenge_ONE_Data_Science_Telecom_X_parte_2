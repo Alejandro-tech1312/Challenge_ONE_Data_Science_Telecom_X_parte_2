{
  "nbformat": 4,
  "nbformat_minor": 0,
  "metadata": {
    "colab": {
      "provenance": []
    },
    "kernelspec": {
      "name": "python3",
      "display_name": "Python 3"
    },
    "language_info": {
      "name": "python"
    }
  },
  "cells": [
    {
      "cell_type": "markdown",
      "source": [
        "# Challenge_ONE_Data_Science_Telecom_X_parte_2"
      ],
      "metadata": {
        "id": "w6fJ4niaFiF-"
      }
    },
    {
      "cell_type": "markdown",
      "source": [
        "## Preparación de los datos"
      ],
      "metadata": {
        "id": "rC6mJwQ3Fnki"
      }
    },
    {
      "cell_type": "markdown",
      "source": [
        "### Extracción del Archivo Tratado\n",
        "\n",
        "Se reliazó la extracción. El archivo tratado es \"datos_tratados.csv\""
      ],
      "metadata": {
        "id": "QAXCgycqFzi5"
      }
    },
    {
      "cell_type": "markdown",
      "source": [
        "### Eliminación de Columnas Irrelevantes\n",
        "\n",
        "Elimina columnas que no aportan valor al análisis o a los modelos predictivos, como identificadores únicos (por ejemplo, el ID del cliente). Estas columnas no ayudan en la predicción de la cancelación y pueden incluso perjudicar el desempeño de los modelos."
      ],
      "metadata": {
        "id": "ajNMa84xGJB5"
      }
    },
    {
      "cell_type": "code",
      "execution_count": null,
      "metadata": {
        "id": "ywmFJ6efDMrB"
      },
      "outputs": [],
      "source": []
    },
    {
      "cell_type": "markdown",
      "source": [
        "### Encoding - Codificación\n",
        "\n",
        "Transforma las variables categóricas a formato numérico para hacerlas compatibles con los algoritmos de machine learning. Utiliza un método de codificación adecuado, como one-hot encoding."
      ],
      "metadata": {
        "id": "CLSSzXNQGbEI"
      }
    },
    {
      "cell_type": "markdown",
      "source": [
        "### Verificación de la Proporción de Cancelación (Churn)\n",
        "\n",
        "Calcula la proporción de clientes que cancelaron en relación con los que permanecieron activos. Evalúa si existe un desbalance entre las clases, ya que esto puede impactar en los modelos predictivos y en el análisis de los resultados.\n",
        "\n",
        "🔎 Sugerencia:\n",
        "Puedes usar value_counts() de pandas para obtener esta proporción:\n",
        "Documentación oficial de value_counts()"
      ],
      "metadata": {
        "id": "J08bX9svGqvf"
      }
    },
    {
      "cell_type": "markdown",
      "source": [
        "### Balanceo de Clases (opcional)\n",
        "\n",
        "Si deseas profundizar en el análisis, aplica técnicas de balanceo como undersampling o oversampling. En situaciones de fuerte desbalanceo, herramientas como SMOTE pueden ser útiles para generar ejemplos sintéticos de la clase minoritaria.\n",
        "\n",
        "🔎 Sugerencia:\n",
        "Puedes leer más sobre cómo manejar el desbalanceo de clases en este artículo:\n",
        "Artículo en Alura sobre desbalanceo de datos"
      ],
      "metadata": {
        "id": "d_a7F3UKG6ZH"
      }
    },
    {
      "cell_type": "markdown",
      "source": [
        "### Normalización o Estandarización (si es necesario)\n",
        "\n",
        "Evalúa la necesidad de normalizar o estandarizar los datos, según los modelos que se aplicarán. Modelos basados en distancia, como KNN, SVM, Regresión Logística y Redes Neuronales, requieren este preprocesamiento. Por otro lado, modelos basados en árboles, como Decision Tree, Random Forest y XGBoost, no son sensibles a la escala de los datos.\n",
        "\n",
        "🔎 Sugerencia:\n",
        "Puedes leer más sobre normalización y estandarización de datos en este artículo:\n",
        "Artículo en Medium sobre normalización y estandarización en Machine Learning"
      ],
      "metadata": {
        "id": "sxsv13e4HF8H"
      }
    },
    {
      "cell_type": "markdown",
      "source": [
        "## Correlación y Selección de Variables"
      ],
      "metadata": {
        "id": "CCQlYIoAHOmP"
      }
    },
    {
      "cell_type": "markdown",
      "source": [
        "### Análisis de Correlación\n",
        "\n",
        "Visualiza la matriz de correlación para identificar relaciones entre las variables numéricas. Presta especial atención a las variables que muestran una mayor correlación con la cancelación, ya que estas pueden ser fuertes candidatas para el modelo predictivo."
      ],
      "metadata": {
        "id": "hGbG_VKnItEd"
      }
    },
    {
      "cell_type": "markdown",
      "source": [
        "### Análisis Dirigido\n",
        "\n",
        "Investiga cómo variables específicas se relacionan con la cancelación, tales como:\n",
        "\n",
        "Tiempo de contrato × Cancelación\n",
        "\n",
        "Gasto total × Cancelación\n",
        "\n",
        "Utiliza gráficos como boxplots o scatter plots para visualizar patrones y posibles tendencias."
      ],
      "metadata": {
        "id": "6mrPW6vrI4Cr"
      }
    },
    {
      "cell_type": "markdown",
      "source": [
        "##  Modelado Predictivo"
      ],
      "metadata": {
        "id": "rtDMpknhI_nT"
      }
    },
    {
      "cell_type": "markdown",
      "source": [
        "### Separación de Datos\n",
        "\n",
        "Divide el conjunto de datos en entrenamiento y prueba para evaluar el rendimiento del modelo. Una división común es 70% para entrenamiento y 30% para prueba, o 80/20, dependiendo del tamaño de la base de datos."
      ],
      "metadata": {
        "id": "ij6xXVSgHU5A"
      }
    },
    {
      "cell_type": "code",
      "source": [],
      "metadata": {
        "id": "_fvQWr-qGjwz"
      },
      "execution_count": null,
      "outputs": []
    },
    {
      "cell_type": "markdown",
      "source": [
        "### Creación de Modelos\n",
        "\n",
        "Crea al menos dos modelos diferentes para predecir la cancelación de clientes.\n",
        "\n",
        "Un modelo puede requerir normalización, como Regresión Logística o KNN.\n",
        "\n",
        "El otro modelo puede no requerir normalización, como Árbol de Decisión o Random Forest.\n",
        "\n",
        "💡 La decisión de aplicar o no la normalización depende de los modelos seleccionados. Ambos modelos pueden ser creados sin normalización, pero también es una opción combinar modelos con y sin normalización.\n",
        "\n",
        "Justificación:\n",
        "\n",
        "Regresión Logística / KNN: Estos modelos son sensibles a la escala de los datos, por lo que la normalización es importante para que los coeficientes o las distancias se calculen correctamente.\n",
        "\n",
        "Árbol de Decisión / Random Forest: Estos modelos no dependen de la escala de los datos, por lo que no es necesario aplicar normalización.\n",
        "\n",
        "Si decides normalizar los datos, deberías explicar cómo esta etapa asegura que los modelos basados en distancia o en optimización de parámetros no se vean sesgados por la magnitud de las variables."
      ],
      "metadata": {
        "id": "o4pM-JmcHcxm"
      }
    },
    {
      "cell_type": "markdown",
      "source": [
        "### Evaluación de los Modelos\n",
        "\n",
        "Evalúa cada modelo utilizando las siguientes métricas:\n",
        "\n",
        "Exactitud\n",
        "\n",
        "Precisión\n",
        "\n",
        "Recordar\n",
        "\n",
        "Puntuación F1\n",
        "\n",
        "Matriz de confusión\n",
        "\n",
        "Después, realiza un análisis crítico y compara los modelos:\n",
        "\n",
        "¿Cuál modelo tuvo el mejor desempeño?\n",
        "\n",
        "¿Algún modelo presentó overfitting o underfitting? Si es así, considera las posibles causas y ajustes:\n",
        "\n",
        "Overfitting: Cuando el modelo aprende demasiado sobre los datos de entrenamiento, perdiendo la capacidad de generalizar a nuevos datos. Considera reducir la complejidad del modelo o aumentar los datos de entrenamiento.\n",
        "\n",
        "Underfitting: Cuando el modelo no captura bien las tendencias de los datos, lo que indica que es demasiado simple. Intenta aumentar la complejidad del modelo o ajustar sus parámetros."
      ],
      "metadata": {
        "id": "76Um0rr0HltH"
      }
    },
    {
      "cell_type": "markdown",
      "source": [
        "## Interpretación y Conclusiones"
      ],
      "metadata": {
        "id": "frV1PwFyHuO9"
      }
    },
    {
      "cell_type": "markdown",
      "source": [
        "### Análisis de la Importancia de las Variables\n",
        "\n",
        "Descripción\n",
        "\n",
        "Editar\n",
        "Después de elegir los modelos, realiza el análisis de las variables más relevantes para la predicción de la cancelación:\n",
        "\n",
        "Regresión Logística: Investiga los coeficientes de las variables, que muestran su contribución a la predicción de cancelación.\n",
        "\n",
        "KNN (K-Nearest Neighbors): Observa cómo los vecinos más cercanos influyen en la decisión de clasificación. Las variables más impactantes pueden ser aquellas que más contribuyen a la proximidad entre los puntos de datos.\n",
        "\n",
        "Random Forest: Utiliza la importancia de las variables proporcionada por el modelo. Random Forest calcula la importancia basándose en cómo cada variable contribuye a la reducción de la impureza durante las divisiones de los árboles.\n",
        "\n",
        "SVM (Support Vector Machine): En el SVM, las variables más relevantes son aquellas que influyen en la frontera de decisión entre las clases. Puedes analizar los coeficientes de los vectores de soporte para entender qué variables tienen mayor impacto.\n",
        "\n",
        "Otros Modelos: Dependiendo del modelo elegido, considera el análisis de métricas específicas para comprender la relevancia de las variables. Por ejemplo, coeficientes en modelos lineales, pesos en redes neuronales, o la importancia relativa en técnicas de boosting (como XGBoost)."
      ],
      "metadata": {
        "id": "FJEw2bPCHz2F"
      }
    },
    {
      "cell_type": "markdown",
      "source": [
        "### Conclusión\n",
        "\n",
        "Elaboren un informe detallado, destacando los factores que más influyen en la cancelación, basándose en las variables seleccionadas y en el rendimiento de cada modelo.\n",
        "\n",
        "Identifiquen los principales factores que afectan la cancelación de clientes y propongan estrategias de retención basadas en los resultados obtenidos."
      ],
      "metadata": {
        "id": "w3QfNhVOH8W2"
      }
    },
    {
      "cell_type": "code",
      "source": [],
      "metadata": {
        "id": "qa1XDyhJHg9q"
      },
      "execution_count": null,
      "outputs": []
    }
  ]
}